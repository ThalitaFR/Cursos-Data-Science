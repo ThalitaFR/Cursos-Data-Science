{
  "nbformat": 4,
  "nbformat_minor": 0,
  "metadata": {
    "colab": {
      "name": "Lógica de programação.ipynb",
      "provenance": [],
      "private_outputs": true,
      "collapsed_sections": [
        "npmGMH4qVI23",
        "5Bj8R0FgWLZP",
        "7CF16vlWadDD",
        "ZI0bvYZPdLQ_",
        "RFW3PQQHeJT7",
        "mTagVG05hb2t",
        "IJt3m79Vjbwr",
        "HCxjQDpNnIwd",
        "46nuh6YUoejw"
      ]
    },
    "kernelspec": {
      "name": "python3",
      "display_name": "Python 3"
    }
  },
  "cells": [
    {
      "cell_type": "markdown",
      "metadata": {
        "id": "npmGMH4qVI23",
        "colab_type": "text"
      },
      "source": [
        "# Lógica de Programação com Python\n"
      ]
    },
    {
      "cell_type": "code",
      "metadata": {
        "id": "A4yTkaPvTREu",
        "colab_type": "code",
        "colab": {}
      },
      "source": [
        "\"Thalita\""
      ],
      "execution_count": null,
      "outputs": []
    },
    {
      "cell_type": "code",
      "metadata": {
        "id": "WL27hRisVS19",
        "colab_type": "code",
        "colab": {}
      },
      "source": [
        "'Thalita'"
      ],
      "execution_count": null,
      "outputs": []
    },
    {
      "cell_type": "code",
      "metadata": {
        "id": "qRZcCNGGVUsa",
        "colab_type": "code",
        "colab": {}
      },
      "source": [
        "nome = 'Thalita'"
      ],
      "execution_count": null,
      "outputs": []
    },
    {
      "cell_type": "code",
      "metadata": {
        "id": "h01QYNujVWzi",
        "colab_type": "code",
        "colab": {}
      },
      "source": [
        "idade = 20"
      ],
      "execution_count": null,
      "outputs": []
    },
    {
      "cell_type": "code",
      "metadata": {
        "id": "0iG_i6bPVjAj",
        "colab_type": "code",
        "colab": {}
      },
      "source": [
        "print(f'O nome é {nome} e sua idade é {idade} anos')"
      ],
      "execution_count": null,
      "outputs": []
    },
    {
      "cell_type": "markdown",
      "metadata": {
        "id": "5Bj8R0FgWLZP",
        "colab_type": "text"
      },
      "source": [
        "# Criando minha primeira função"
      ]
    },
    {
      "cell_type": "code",
      "metadata": {
        "id": "5MBWHz9mWADf",
        "colab_type": "code",
        "colab": {}
      },
      "source": [
        "def saudacao():\n",
        "  nome = input('Qual seu nome?')\n",
        "  print(f'Olá {nome}')"
      ],
      "execution_count": null,
      "outputs": []
    },
    {
      "cell_type": "code",
      "metadata": {
        "id": "5H5Rq4pmW2rs",
        "colab_type": "code",
        "colab": {}
      },
      "source": [
        "saudacao()"
      ],
      "execution_count": null,
      "outputs": []
    },
    {
      "cell_type": "markdown",
      "metadata": {
        "id": "7CF16vlWadDD",
        "colab_type": "text"
      },
      "source": [
        "#Parâmetros"
      ]
    },
    {
      "cell_type": "code",
      "metadata": {
        "id": "_xygNc2PaCe8",
        "colab_type": "code",
        "colab": {}
      },
      "source": [
        "nome = 'Luiza'"
      ],
      "execution_count": null,
      "outputs": []
    },
    {
      "cell_type": "code",
      "metadata": {
        "id": "Opm-4FaiaC2j",
        "colab_type": "code",
        "colab": {}
      },
      "source": [
        "def saudacao_com_parametros(nome):\n",
        "  print(f'Olá {nome}!')"
      ],
      "execution_count": null,
      "outputs": []
    },
    {
      "cell_type": "code",
      "metadata": {
        "id": "kbequdapaTS_",
        "colab_type": "code",
        "colab": {}
      },
      "source": [
        "saudacao_com_parametros(nome)"
      ],
      "execution_count": null,
      "outputs": []
    },
    {
      "cell_type": "markdown",
      "metadata": {
        "id": "p1hx5Kb1aqgr",
        "colab_type": "text"
      },
      "source": [
        "#Condicional\n"
      ]
    },
    {
      "cell_type": "code",
      "metadata": {
        "id": "4EYkddA1asdR",
        "colab_type": "code",
        "colab": {}
      },
      "source": [
        "idade = 20\n",
        "\n",
        "def verificaDirigir(idade):\n",
        "  if idade > 18:\n",
        "    print('Tem permissão para dirigir')\n",
        "  else:\n",
        "    print('Não tem permissão para dirigir')\n",
        "\n",
        "verificaDirigir(idade)"
      ],
      "execution_count": null,
      "outputs": []
    },
    {
      "cell_type": "markdown",
      "metadata": {
        "id": "ZI0bvYZPdLQ_",
        "colab_type": "text"
      },
      "source": [
        "# Convertendo o tipo string para inteiro"
      ]
    },
    {
      "cell_type": "code",
      "metadata": {
        "id": "6iGKcD36cA_T",
        "colab_type": "code",
        "colab": {}
      },
      "source": [
        "def verificaDirigirSemParametros():\n",
        "  idade = input('Qual sua idade?')\n",
        "  idade = int(idade)\n",
        "  if idade > 18:\n",
        "    print('Tem permissão para dirigir')\n",
        "  else:\n",
        "    print('Não tem permissão para dirigir')\n",
        "\n",
        "verificaDirigirSemParametros()"
      ],
      "execution_count": null,
      "outputs": []
    },
    {
      "cell_type": "markdown",
      "metadata": {
        "id": "RFW3PQQHeJT7",
        "colab_type": "text"
      },
      "source": [
        "# Lista\n"
      ]
    },
    {
      "cell_type": "code",
      "metadata": {
        "id": "gVBeJhJ0eL80",
        "colab_type": "code",
        "colab": {}
      },
      "source": [
        "idade = 20\n",
        "type (idade)"
      ],
      "execution_count": null,
      "outputs": []
    },
    {
      "cell_type": "code",
      "metadata": {
        "id": "ilqDsssGevI8",
        "colab_type": "code",
        "colab": {}
      },
      "source": [
        "idades = [18,15,20,50]\n",
        "#         0, 1, 2, 3    \n",
        "#         0,-3,-2,-1\n",
        "type (idades)"
      ],
      "execution_count": null,
      "outputs": []
    },
    {
      "cell_type": "code",
      "metadata": {
        "id": "YkonNyJ9e7qn",
        "colab_type": "code",
        "colab": {}
      },
      "source": [
        "idades[2]"
      ],
      "execution_count": null,
      "outputs": []
    },
    {
      "cell_type": "code",
      "metadata": {
        "id": "j05w7kRLfS4g",
        "colab_type": "code",
        "colab": {}
      },
      "source": [
        "idades[0:3]"
      ],
      "execution_count": null,
      "outputs": []
    },
    {
      "cell_type": "code",
      "metadata": {
        "id": "PyM2tA8Yf3uH",
        "colab_type": "code",
        "colab": {}
      },
      "source": [
        "idades[1:]"
      ],
      "execution_count": null,
      "outputs": []
    },
    {
      "cell_type": "code",
      "metadata": {
        "id": "ATJ-dULJf6gO",
        "colab_type": "code",
        "colab": {}
      },
      "source": [
        "idades[-1]"
      ],
      "execution_count": null,
      "outputs": []
    },
    {
      "cell_type": "markdown",
      "metadata": {
        "id": "mTagVG05hb2t",
        "colab_type": "text"
      },
      "source": [
        "# Laços e Loops"
      ]
    },
    {
      "cell_type": "code",
      "metadata": {
        "id": "ogRk320Uhbjo",
        "colab_type": "code",
        "colab": {}
      },
      "source": [
        "idades = [18,15,20,50]"
      ],
      "execution_count": null,
      "outputs": []
    },
    {
      "cell_type": "code",
      "metadata": {
        "id": "casDQHoRht00",
        "colab_type": "code",
        "colab": {}
      },
      "source": [
        "# for fora da função\n",
        "def verificaDirigir(idade):\n",
        "  if idade >= 18:\n",
        "    print(f'{idade} anos de idade tem permissão para dirigir')\n",
        "  else:\n",
        "    print(f'{idade} anos de idade não tem permissão para dirigir')\n",
        "\n",
        "for idade in idades:\n",
        "  verificaDirigir(idade)"
      ],
      "execution_count": null,
      "outputs": []
    },
    {
      "cell_type": "code",
      "metadata": {
        "id": "XCLxZtHBiv8x",
        "colab_type": "code",
        "colab": {}
      },
      "source": [
        "def verificaDirigir(idades):\n",
        "  for idade in idades:\n",
        "    if idade >= 18:\n",
        "      print(f'{idade} anos de idade tem permissão para dirigir')\n",
        "    else:\n",
        "      print(f'{idade} anos de idade não tem permissão para dirigir')\n",
        "\n",
        "verificaDirigir(idades)"
      ],
      "execution_count": null,
      "outputs": []
    },
    {
      "cell_type": "markdown",
      "metadata": {
        "id": "IJt3m79Vjbwr",
        "colab_type": "text"
      },
      "source": [
        "# Booleano\n"
      ]
    },
    {
      "cell_type": "code",
      "metadata": {
        "id": "WzL-IA88jlu5",
        "colab_type": "code",
        "colab": {}
      },
      "source": [
        "idade = 18\n",
        "idade >= 18"
      ],
      "execution_count": null,
      "outputs": []
    },
    {
      "cell_type": "code",
      "metadata": {
        "id": "98FwUWLej0pU",
        "colab_type": "code",
        "colab": {}
      },
      "source": [
        "idade = 15\n",
        "idade >= 18"
      ],
      "execution_count": null,
      "outputs": []
    },
    {
      "cell_type": "code",
      "metadata": {
        "id": "7cH4WKPQj2zA",
        "colab_type": "code",
        "colab": {}
      },
      "source": [
        "permissoes = []\n",
        "idades = [20,14,40]\n",
        "\n",
        "def verificaDirigir(idades,permissoes):\n",
        "  for idade in idades:\n",
        "    if idade >= 18:\n",
        "      permissoes.append(True)\n",
        "    else:\n",
        "      permissoes.append(False)\n",
        "\n",
        "verificaDirigir(idades,permissoes)"
      ],
      "execution_count": null,
      "outputs": []
    },
    {
      "cell_type": "code",
      "metadata": {
        "id": "tnOy2bCGlmV4",
        "colab_type": "code",
        "colab": {}
      },
      "source": [
        "permissoes"
      ],
      "execution_count": null,
      "outputs": []
    },
    {
      "cell_type": "code",
      "metadata": {
        "id": "pOTcnMLFlte1",
        "colab_type": "code",
        "colab": {}
      },
      "source": [
        "for permissao in permissoes:\n",
        "  if permissao == True:\n",
        "    print('Tem permissão para dirigir')\n",
        "  else:\n",
        "    print('Não tem permissão para dirigir')"
      ],
      "execution_count": null,
      "outputs": []
    },
    {
      "cell_type": "markdown",
      "metadata": {
        "id": "HCxjQDpNnIwd",
        "colab_type": "text"
      },
      "source": [
        "# Tipos em uma Lista\n"
      ]
    },
    {
      "cell_type": "code",
      "metadata": {
        "id": "hNorXPn1nQGK",
        "colab_type": "code",
        "colab": {}
      },
      "source": [
        "lista = ['Guilherme', 28, True, '18']\n",
        "\n",
        "for elemento in lista:\n",
        "  print(f'O elemento {elemento} é do tipo: ', type(elemento))"
      ],
      "execution_count": null,
      "outputs": []
    },
    {
      "cell_type": "markdown",
      "metadata": {
        "id": "46nuh6YUoejw",
        "colab_type": "text"
      },
      "source": [
        "#Imports"
      ]
    },
    {
      "cell_type": "code",
      "metadata": {
        "id": "MLfRGE5Rofyt",
        "colab_type": "code",
        "colab": {}
      },
      "source": [
        "from random import randrange, seed"
      ],
      "execution_count": null,
      "outputs": []
    },
    {
      "cell_type": "code",
      "metadata": {
        "id": "22AD6a3Cp-UD",
        "colab_type": "code",
        "colab": {}
      },
      "source": [
        "# Controla a geração do número aleatório, o que faz com que sempre sejam os mesmos gerados.\n",
        "seed(10)"
      ],
      "execution_count": null,
      "outputs": []
    },
    {
      "cell_type": "code",
      "metadata": {
        "id": "YpbFi-pxotLn",
        "colab_type": "code",
        "colab": {}
      },
      "source": [
        "randrange(0, 11)"
      ],
      "execution_count": null,
      "outputs": []
    },
    {
      "cell_type": "code",
      "metadata": {
        "id": "8bb0sJT-pCV1",
        "colab_type": "code",
        "colab": {}
      },
      "source": [
        "notasMatematica = []\n",
        "\n",
        "for notas in range(8):\n",
        "  notasMatematica.append(randrange(0,11))\n",
        "\n",
        "notasMatematica"
      ],
      "execution_count": null,
      "outputs": []
    },
    {
      "cell_type": "code",
      "metadata": {
        "id": "kXqavI7qpnmK",
        "colab_type": "code",
        "colab": {}
      },
      "source": [
        "len(notasMatematica)"
      ],
      "execution_count": null,
      "outputs": []
    },
    {
      "cell_type": "markdown",
      "metadata": {
        "id": "TOjl2CCxrJFp",
        "colab_type": "text"
      },
      "source": [
        "# Matplot Lib"
      ]
    },
    {
      "cell_type": "code",
      "metadata": {
        "id": "GqE-_T3KrkaA",
        "colab_type": "code",
        "colab": {}
      },
      "source": [
        "import matplotlib.pyplot as plt "
      ],
      "execution_count": null,
      "outputs": []
    },
    {
      "cell_type": "code",
      "metadata": {
        "id": "dFRZ8DjAr2eb",
        "colab_type": "code",
        "colab": {}
      },
      "source": [
        "x = list(range(1,9))\n",
        "y = notasMatematica\n",
        "plt.plot(x,y, marker = 'o')\n",
        "plt.title('Notas de Matematica')\n",
        "plt.xlabel('Provas')\n",
        "plt.ylabel('Notas')\n",
        "plt.show()"
      ],
      "execution_count": null,
      "outputs": []
    },
    {
      "cell_type": "code",
      "metadata": {
        "id": "ehFzSRsKsWEI",
        "colab_type": "code",
        "colab": {}
      },
      "source": [
        ""
      ],
      "execution_count": null,
      "outputs": []
    }
  ]
}